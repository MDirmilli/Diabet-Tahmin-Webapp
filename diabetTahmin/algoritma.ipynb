{
 "cells": [
  {
   "cell_type": "code",
   "execution_count": 2,
   "metadata": {},
   "outputs": [
    {
     "name": "stderr",
     "output_type": "stream",
     "text": [
      "C:\\Users\\MUHAMMET BEY\\AppData\\Roaming\\Python\\Python311\\site-packages\\xgboost\\core.py:158: UserWarning: [19:05:25] WARNING: C:\\buildkite-agent\\builds\\buildkite-windows-cpu-autoscaling-group-i-0c55ff5f71b100e98-1\\xgboost\\xgboost-ci-windows\\src\\learner.cc:740: \n",
      "Parameters: { \"use_label_encoder\" } are not used.\n",
      "\n",
      "  warnings.warn(smsg, UserWarning)\n"
     ]
    },
    {
     "name": "stdout",
     "output_type": "stream",
     "text": [
      "Model Performansları:\n",
      "Logistic Regression: 0.88 Accuracy\n",
      "SVM: 0.88 Accuracy\n",
      "K-Nearest Neighbors: 0.85 Accuracy\n",
      "Decision Tree: 0.99 Accuracy\n",
      "Gaussian Naive Bayes: 0.93 Accuracy\n",
      "Gradient Boosting: 0.99 Accuracy\n",
      "Extra Trees: 0.99 Accuracy\n",
      "XGBoost: 0.98 Accuracy\n",
      "MLP (Neural Network): 0.87 Accuracy\n",
      "\n",
      "En iyi model: Decision Tree (0.99 Accuracy)\n"
     ]
    }
   ],
   "source": [
    "from sklearn.model_selection import train_test_split\n",
    "from sklearn.linear_model import LogisticRegression\n",
    "from sklearn.ensemble import GradientBoostingClassifier, ExtraTreesClassifier\n",
    "from sklearn.svm import SVC\n",
    "from sklearn.neighbors import KNeighborsClassifier\n",
    "from sklearn.tree import DecisionTreeClassifier\n",
    "from sklearn.naive_bayes import GaussianNB\n",
    "from sklearn.neural_network import MLPClassifier\n",
    "import xgboost as xgb\n",
    "from sklearn.metrics import accuracy_score\n",
    "import joblib\n",
    "import pandas as pd\n",
    "\n",
    "# Veri yükleme\n",
    "data = pd.read_csv(\"veri.csv\")\n",
    "\n",
    "# Özellik ve hedef değişken ayrımı\n",
    "X = data[[\"Age\", \"BMI\", \"BloodPressure\", \"Glucose\"]]\n",
    "y = data[\"Diabetes\"]\n",
    "\n",
    "# Veri setini ayırma\n",
    "X_train, X_test, y_train, y_test = train_test_split(X, y, test_size=0.2, random_state=42)\n",
    "\n",
    "# Algoritmalar\n",
    "models = {\n",
    "    \"Logistic Regression\": LogisticRegression(),\n",
    "    \"SVM\": SVC(),\n",
    "    \"K-Nearest Neighbors\": KNeighborsClassifier(),\n",
    "    \"Decision Tree\": DecisionTreeClassifier(),\n",
    "    \"Gaussian Naive Bayes\": GaussianNB(),\n",
    "    \"Gradient Boosting\": GradientBoostingClassifier(),\n",
    "    \"Extra Trees\": ExtraTreesClassifier(),\n",
    "    \"XGBoost\": xgb.XGBClassifier(use_label_encoder=False, eval_metric='logloss'),\n",
    "    \"MLP (Neural Network)\": MLPClassifier(max_iter=1000),\n",
    "}\n",
    "\n",
    "# Eğitim ve değerlendirme\n",
    "results = {}\n",
    "for name, model in models.items():\n",
    "    model.fit(X_train, y_train)\n",
    "    predictions = model.predict(X_test)\n",
    "    accuracy = accuracy_score(y_test, predictions)\n",
    "    results[name] = accuracy\n",
    "\n",
    "# En iyi model\n",
    "best_model_name = max(results, key=results.get)\n",
    "best_model = models[best_model_name]\n",
    "\n",
    "# En iyi modeli kaydet\n",
    "joblib.dump(best_model, \"eniyi.joblib\")\n",
    "\n",
    "# Sonuçları yazdırma\n",
    "print(\"Model Performansları:\")\n",
    "for name, accuracy in results.items():\n",
    "    print(f\"{name}: {accuracy:.2f} Accuracy\")\n",
    "\n",
    "print(f\"\\nEn iyi model: {best_model_name} ({results[best_model_name]:.2f} Accuracy)\")\n"
   ]
  }
 ],
 "metadata": {
  "kernelspec": {
   "display_name": "base",
   "language": "python",
   "name": "python3"
  },
  "language_info": {
   "codemirror_mode": {
    "name": "ipython",
    "version": 3
   },
   "file_extension": ".py",
   "mimetype": "text/x-python",
   "name": "python",
   "nbconvert_exporter": "python",
   "pygments_lexer": "ipython3",
   "version": "3.11.5"
  }
 },
 "nbformat": 4,
 "nbformat_minor": 2
}
